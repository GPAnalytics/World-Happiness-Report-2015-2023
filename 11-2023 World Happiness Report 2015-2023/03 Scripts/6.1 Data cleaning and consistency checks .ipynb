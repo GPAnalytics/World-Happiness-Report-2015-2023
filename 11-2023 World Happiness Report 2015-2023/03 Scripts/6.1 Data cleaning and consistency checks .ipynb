{
 "cells": [
  {
   "cell_type": "markdown",
   "id": "4cf9d7f5",
   "metadata": {},
   "source": [
    "# Table of Contents\n",
    "#### 01. Import Libraries and Data\n",
    "#### 02. Merging data frames\n",
    "#### 03. Data Cleaning\n",
    "    - Exploring categorical columns\n",
    "    - Exploring numerical columns\n",
    "#### 04. Exporting Data\n"
   ]
  },
  {
   "cell_type": "markdown",
   "id": "0c7439b0",
   "metadata": {},
   "source": [
    "## 01. Import Libraries and Data"
   ]
  },
  {
   "cell_type": "code",
   "execution_count": 82,
   "id": "44ba49a5",
   "metadata": {},
   "outputs": [],
   "source": [
    "# Importing libraries\n",
    "import pandas as pd\n",
    "import numpy as np\n",
    "%matplotlib inline\n",
    "import os\n",
    "import matplotlib.pyplot as plt\n",
    "import seaborn as sns\n",
    "import plotly.express as px\n",
    "import scipy "
   ]
  },
  {
   "cell_type": "code",
   "execution_count": 2,
   "id": "b086a39a",
   "metadata": {},
   "outputs": [],
   "source": [
    "# Set path\n",
    "path = r'C:\\Users\\Goce\\Desktop\\11-2023 World Happiness Report 2015-2023'"
   ]
  },
  {
   "cell_type": "code",
   "execution_count": 3,
   "id": "1b450ee4",
   "metadata": {},
   "outputs": [],
   "source": [
    "# Importing Data\n",
    "df_2015 = pd.read_csv(os.path.join(path, '02 Data', 'Original Data', 'WHR_2015.csv'), index_col = False)\n",
    "df_2016 = pd.read_csv(os.path.join(path, '02 Data', 'Original Data', 'WHR_2016.csv'), index_col = False)\n",
    "df_2017 = pd.read_csv(os.path.join(path, '02 Data', 'Original Data', 'WHR_2017.csv'), index_col = False)\n",
    "df_2018 = pd.read_csv(os.path.join(path, '02 Data', 'Original Data', 'WHR_2018.csv'), index_col = False)\n",
    "df_2019 = pd.read_csv(os.path.join(path, '02 Data', 'Original Data', 'WHR_2019.csv'), index_col = False)\n",
    "df_2020 = pd.read_csv(os.path.join(path, '02 Data', 'Original Data', 'WHR_2020.csv'), index_col = False)\n",
    "df_2021 = pd.read_csv(os.path.join(path, '02 Data', 'Original Data', 'WHR_2021.csv'), index_col = False)\n",
    "df_2022 = pd.read_csv(os.path.join(path, '02 Data', 'Original Data', 'WHR_2022.csv'), index_col = False)\n",
    "df_2023 = pd.read_csv(os.path.join(path, '02 Data', 'Original Data', 'WHR_2023.csv'), index_col = False)"
   ]
  },
  {
   "cell_type": "markdown",
   "id": "9c340f70",
   "metadata": {},
   "source": [
    "## 02. Merging data frames \n",
    "After checking the data frames, realized that they have the same columns so we can merge them into one data frame"
   ]
  },
  {
   "cell_type": "code",
   "execution_count": 10,
   "id": "fd3d7c77",
   "metadata": {},
   "outputs": [],
   "source": [
    "# Create a list of DataFrames\n",
    "dfs = [df_2015, df_2016, df_2017, df_2018, df_2019, df_2020, df_2021, df_2022, df_2023]\n"
   ]
  },
  {
   "cell_type": "code",
   "execution_count": 11,
   "id": "48cc4dc5",
   "metadata": {},
   "outputs": [],
   "source": [
    "# Add a \"year\" column to each dataframe\n",
    "years = range(2015, 2024)\n",
    "for year, df in zip(years, dfs):\n",
    "    df['year'] = year"
   ]
  },
  {
   "cell_type": "code",
   "execution_count": 12,
   "id": "50b51041",
   "metadata": {},
   "outputs": [],
   "source": [
    "# Concatenate the dataframes into one\n",
    "whr_df = pd.concat(dfs, ignore_index=True)"
   ]
  },
  {
   "cell_type": "code",
   "execution_count": 13,
   "id": "7183a65c",
   "metadata": {},
   "outputs": [
    {
     "data": {
      "text/html": [
       "<div>\n",
       "<style scoped>\n",
       "    .dataframe tbody tr th:only-of-type {\n",
       "        vertical-align: middle;\n",
       "    }\n",
       "\n",
       "    .dataframe tbody tr th {\n",
       "        vertical-align: top;\n",
       "    }\n",
       "\n",
       "    .dataframe thead th {\n",
       "        text-align: right;\n",
       "    }\n",
       "</style>\n",
       "<table border=\"1\" class=\"dataframe\">\n",
       "  <thead>\n",
       "    <tr style=\"text-align: right;\">\n",
       "      <th></th>\n",
       "      <th>country</th>\n",
       "      <th>region</th>\n",
       "      <th>happiness_score</th>\n",
       "      <th>gdp_per_capita</th>\n",
       "      <th>social_support</th>\n",
       "      <th>healthy_life_expectancy</th>\n",
       "      <th>freedom_to_make_life_choices</th>\n",
       "      <th>generosity</th>\n",
       "      <th>perceptions_of_corruption</th>\n",
       "      <th>year</th>\n",
       "    </tr>\n",
       "  </thead>\n",
       "  <tbody>\n",
       "    <tr>\n",
       "      <th>0</th>\n",
       "      <td>Switzerland</td>\n",
       "      <td>Western Europe</td>\n",
       "      <td>7.587</td>\n",
       "      <td>1.39651</td>\n",
       "      <td>1.34951</td>\n",
       "      <td>0.94143</td>\n",
       "      <td>0.66557</td>\n",
       "      <td>0.29678</td>\n",
       "      <td>0.41978</td>\n",
       "      <td>2015</td>\n",
       "    </tr>\n",
       "    <tr>\n",
       "      <th>1</th>\n",
       "      <td>Iceland</td>\n",
       "      <td>Western Europe</td>\n",
       "      <td>7.561</td>\n",
       "      <td>1.30232</td>\n",
       "      <td>1.40223</td>\n",
       "      <td>0.94784</td>\n",
       "      <td>0.62877</td>\n",
       "      <td>0.43630</td>\n",
       "      <td>0.14145</td>\n",
       "      <td>2015</td>\n",
       "    </tr>\n",
       "    <tr>\n",
       "      <th>2</th>\n",
       "      <td>Denmark</td>\n",
       "      <td>Western Europe</td>\n",
       "      <td>7.527</td>\n",
       "      <td>1.32548</td>\n",
       "      <td>1.36058</td>\n",
       "      <td>0.87464</td>\n",
       "      <td>0.64938</td>\n",
       "      <td>0.34139</td>\n",
       "      <td>0.48357</td>\n",
       "      <td>2015</td>\n",
       "    </tr>\n",
       "  </tbody>\n",
       "</table>\n",
       "</div>"
      ],
      "text/plain": [
       "       country          region  happiness_score  gdp_per_capita  \\\n",
       "0  Switzerland  Western Europe            7.587         1.39651   \n",
       "1      Iceland  Western Europe            7.561         1.30232   \n",
       "2      Denmark  Western Europe            7.527         1.32548   \n",
       "\n",
       "   social_support  healthy_life_expectancy  freedom_to_make_life_choices  \\\n",
       "0         1.34951                  0.94143                       0.66557   \n",
       "1         1.40223                  0.94784                       0.62877   \n",
       "2         1.36058                  0.87464                       0.64938   \n",
       "\n",
       "   generosity  perceptions_of_corruption  year  \n",
       "0     0.29678                    0.41978  2015  \n",
       "1     0.43630                    0.14145  2015  \n",
       "2     0.34139                    0.48357  2015  "
      ]
     },
     "execution_count": 13,
     "metadata": {},
     "output_type": "execute_result"
    }
   ],
   "source": [
    "#checking the df\n",
    "whr_df.head(3)"
   ]
  },
  {
   "cell_type": "code",
   "execution_count": 14,
   "id": "2cdde4bd",
   "metadata": {},
   "outputs": [
    {
     "data": {
      "text/plain": [
       "(1367, 10)"
      ]
     },
     "execution_count": 14,
     "metadata": {},
     "output_type": "execute_result"
    }
   ],
   "source": [
    "#checking the df\n",
    "whr_df.shape\n",
    "\n"
   ]
  },
  {
   "cell_type": "code",
   "execution_count": 15,
   "id": "87a5fcc3",
   "metadata": {},
   "outputs": [
    {
     "data": {
      "text/html": [
       "<div>\n",
       "<style scoped>\n",
       "    .dataframe tbody tr th:only-of-type {\n",
       "        vertical-align: middle;\n",
       "    }\n",
       "\n",
       "    .dataframe tbody tr th {\n",
       "        vertical-align: top;\n",
       "    }\n",
       "\n",
       "    .dataframe thead th {\n",
       "        text-align: right;\n",
       "    }\n",
       "</style>\n",
       "<table border=\"1\" class=\"dataframe\">\n",
       "  <thead>\n",
       "    <tr style=\"text-align: right;\">\n",
       "      <th></th>\n",
       "      <th>country</th>\n",
       "      <th>region</th>\n",
       "      <th>happiness_score</th>\n",
       "      <th>gdp_per_capita</th>\n",
       "      <th>social_support</th>\n",
       "      <th>healthy_life_expectancy</th>\n",
       "      <th>freedom_to_make_life_choices</th>\n",
       "      <th>generosity</th>\n",
       "      <th>perceptions_of_corruption</th>\n",
       "      <th>year</th>\n",
       "    </tr>\n",
       "  </thead>\n",
       "  <tbody>\n",
       "    <tr>\n",
       "      <th>1364</th>\n",
       "      <td>Sierra Leone</td>\n",
       "      <td>Sub-Saharan Africa</td>\n",
       "      <td>3.138</td>\n",
       "      <td>0.670</td>\n",
       "      <td>0.540</td>\n",
       "      <td>0.092</td>\n",
       "      <td>0.371</td>\n",
       "      <td>0.193</td>\n",
       "      <td>0.051</td>\n",
       "      <td>2023</td>\n",
       "    </tr>\n",
       "    <tr>\n",
       "      <th>1365</th>\n",
       "      <td>Lebanon</td>\n",
       "      <td>Middle East and North Africa</td>\n",
       "      <td>2.392</td>\n",
       "      <td>1.417</td>\n",
       "      <td>0.476</td>\n",
       "      <td>0.398</td>\n",
       "      <td>0.123</td>\n",
       "      <td>0.061</td>\n",
       "      <td>0.027</td>\n",
       "      <td>2023</td>\n",
       "    </tr>\n",
       "    <tr>\n",
       "      <th>1366</th>\n",
       "      <td>Afghanistan</td>\n",
       "      <td>South Asia</td>\n",
       "      <td>1.859</td>\n",
       "      <td>0.645</td>\n",
       "      <td>0.000</td>\n",
       "      <td>0.087</td>\n",
       "      <td>0.000</td>\n",
       "      <td>0.093</td>\n",
       "      <td>0.059</td>\n",
       "      <td>2023</td>\n",
       "    </tr>\n",
       "  </tbody>\n",
       "</table>\n",
       "</div>"
      ],
      "text/plain": [
       "           country                        region  happiness_score  \\\n",
       "1364  Sierra Leone            Sub-Saharan Africa            3.138   \n",
       "1365       Lebanon  Middle East and North Africa            2.392   \n",
       "1366   Afghanistan                    South Asia            1.859   \n",
       "\n",
       "      gdp_per_capita  social_support  healthy_life_expectancy  \\\n",
       "1364           0.670           0.540                    0.092   \n",
       "1365           1.417           0.476                    0.398   \n",
       "1366           0.645           0.000                    0.087   \n",
       "\n",
       "      freedom_to_make_life_choices  generosity  perceptions_of_corruption  \\\n",
       "1364                         0.371       0.193                      0.051   \n",
       "1365                         0.123       0.061                      0.027   \n",
       "1366                         0.000       0.093                      0.059   \n",
       "\n",
       "      year  \n",
       "1364  2023  \n",
       "1365  2023  \n",
       "1366  2023  "
      ]
     },
     "execution_count": 15,
     "metadata": {},
     "output_type": "execute_result"
    }
   ],
   "source": [
    "#checking the df\n",
    "whr_df.tail(3)"
   ]
  },
  {
   "cell_type": "markdown",
   "id": "8844ad50",
   "metadata": {},
   "source": [
    "#### Columns and meaning:\n",
    "- country -\tname of the country\n",
    "- region - \tThe geographic region to which the country belongs\n",
    "- happiness_score-\tThe score representing the overall happiness or well-being\n",
    "- gdp_per_capita-\tThe extent to which GDP contributes to the calculation of the Happiness Score.\n",
    "- social_support-\tThe extent to which measure of social support contributes to the calculation of the Happiness Score.\n",
    "- healthy_life_expectancy-\tThe extent to which Life expectancy contributed to the calculation of the Happiness Score\n",
    "- freedom_to_make_life_choices-\tThe extent to which Freedom contributed to the calculation of the Happiness Score.\n",
    "- generosity-\tThe extent to which generosity or charitable behavior contributes to the calculation of the Happiness Score.\n",
    "- perceptions_of_corruption-\tThe extent to which Perception of Corruption contributes to Happiness Score.\n",
    "- year-\tyear (2015-2023)\n"
   ]
  },
  {
   "cell_type": "code",
   "execution_count": 23,
   "id": "3717c8a0",
   "metadata": {},
   "outputs": [],
   "source": [
    "#Exporting whr_df\n",
    "whr_df.to_csv(os.path.join(path, '02 Data', 'Prepared Data', 'whr_df_uncleaned.csv'))"
   ]
  },
  {
   "cell_type": "markdown",
   "id": "3f92f8fb",
   "metadata": {},
   "source": [
    "## 03. Data Cleaning "
   ]
  },
  {
   "cell_type": "code",
   "execution_count": 21,
   "id": "bf618218",
   "metadata": {},
   "outputs": [
    {
     "name": "stdout",
     "output_type": "stream",
     "text": [
      "<class 'pandas.core.frame.DataFrame'>\n",
      "RangeIndex: 1367 entries, 0 to 1366\n",
      "Data columns (total 10 columns):\n",
      " #   Column                        Non-Null Count  Dtype  \n",
      "---  ------                        --------------  -----  \n",
      " 0   country                       1367 non-null   object \n",
      " 1   region                        1367 non-null   object \n",
      " 2   happiness_score               1367 non-null   float64\n",
      " 3   gdp_per_capita                1367 non-null   float64\n",
      " 4   social_support                1367 non-null   float64\n",
      " 5   healthy_life_expectancy       1366 non-null   float64\n",
      " 6   freedom_to_make_life_choices  1367 non-null   float64\n",
      " 7   generosity                    1367 non-null   float64\n",
      " 8   perceptions_of_corruption     1366 non-null   float64\n",
      " 9   year                          1367 non-null   int64  \n",
      "dtypes: float64(7), int64(1), object(2)\n",
      "memory usage: 106.9+ KB\n"
     ]
    }
   ],
   "source": [
    "whr_df.info()"
   ]
  },
  {
   "cell_type": "markdown",
   "id": "0aceabed",
   "metadata": {},
   "source": [
    "### Exploring categorical columns"
   ]
  },
  {
   "cell_type": "code",
   "execution_count": 27,
   "id": "ff338409",
   "metadata": {},
   "outputs": [],
   "source": [
    "pd.set_option('display.max_rows', None)"
   ]
  },
  {
   "cell_type": "code",
   "execution_count": 29,
   "id": "0a6f08b8",
   "metadata": {},
   "outputs": [
    {
     "data": {
      "text/plain": [
       "Cyprus                       11\n",
       "Ethiopia                      9\n",
       "Costa Rica                    9\n",
       "Venezuela                     9\n",
       "Singapore                     9\n",
       "Panama                        9\n",
       "Germany                       9\n",
       "Israel                        9\n",
       "Chile                         9\n",
       "Guatemala                     9\n",
       "Australia                     9\n",
       "Switzerland                   9\n",
       "Kosovo                        9\n",
       "New Zealand                   9\n",
       "Sweden                        9\n",
       "Netherlands                   9\n",
       "Uruguay                       9\n",
       "Colombia                      9\n",
       "Thailand                      9\n",
       "Saudi Arabia                  9\n",
       "Spain                         9\n",
       "Malta                         9\n",
       "Taiwan Province of China      9\n",
       "Finland                       9\n",
       "Canada                        9\n",
       "France                        9\n",
       "El Salvador                   9\n",
       "Romania                       9\n",
       "Hong Kong S.A.R. of China     9\n",
       "Liberia                       9\n",
       "India                         9\n",
       "United Kingdom                9\n",
       "United Arab Emirates          9\n",
       "Belgium                       9\n",
       "Peru                          9\n",
       "Moldova                       9\n",
       "South Korea                   9\n",
       "Ecuador                       9\n",
       "Norway                        9\n",
       "Bahrain                       9\n",
       "Italy                         9\n",
       "Japan                         9\n",
       "Bolivia                       9\n",
       "Slovenia                      9\n",
       "Kazakhstan                    9\n",
       "Slovakia                      9\n",
       "Lithuania                     9\n",
       "Nicaragua                     9\n",
       "Poland                        9\n",
       "Ireland                       9\n",
       "Malaysia                      9\n",
       "Croatia                       9\n",
       "Denmark                       9\n",
       "Russia                        9\n",
       "Jamaica                       9\n",
       "Algeria                       9\n",
       "Paraguay                      9\n",
       "Uzbekistan                    9\n",
       "Brazil                        9\n",
       "United States                 9\n",
       "Mexico                        9\n",
       "Luxembourg                    9\n",
       "Austria                       9\n",
       "Nepal                         9\n",
       "Argentina                     9\n",
       "Sierra Leone                  9\n",
       "North Macedonia               9\n",
       "Kyrgyzstan                    9\n",
       "Nigeria                       9\n",
       "Pakistan                      9\n",
       "Jordan                        9\n",
       "Montenegro                    9\n",
       "China                         9\n",
       "Zambia                        9\n",
       "Iceland                       9\n",
       "Serbia                        9\n",
       "Portugal                      9\n",
       "Latvia                        9\n",
       "South Africa                  9\n",
       "Philippines                   9\n",
       "Ukraine                       9\n",
       "Indonesia                     9\n",
       "Iran                          9\n",
       "Bangladesh                    9\n",
       "Tunisia                       9\n",
       "Tajikistan                    9\n",
       "Mauritania                    9\n",
       "Honduras                      9\n",
       "Lebanon                       9\n",
       "Greece                        9\n",
       "Mongolia                      9\n",
       "Dominican Republic            9\n",
       "Bosnia and Herzegovina        9\n",
       "Albania                       9\n",
       "Hungary                       9\n",
       "Vietnam                       9\n",
       "Morocco                       9\n",
       "Estonia                       9\n",
       "Burkina Faso                  9\n",
       "Kenya                         9\n",
       "Armenia                       9\n",
       "Botswana                      9\n",
       "Myanmar                       9\n",
       "Georgia                       9\n",
       "Malawi                        9\n",
       "Sri Lanka                     9\n",
       "Cameroon                      9\n",
       "Bulgaria                      9\n",
       "Egypt                         9\n",
       "Mali                          9\n",
       "Benin                         9\n",
       "Afghanistan                   9\n",
       "Togo                          9\n",
       "Ivory Coast                   9\n",
       "Gabon                         9\n",
       "Ghana                         9\n",
       "Mauritius                     9\n",
       "Madagascar                    9\n",
       "Guinea                        9\n",
       "Senegal                       9\n",
       "Uganda                        9\n",
       "Niger                         9\n",
       "Cambodia                      9\n",
       "Tanzania                      9\n",
       "Chad                          9\n",
       "Zimbabwe                      9\n",
       "Iraq                          9\n",
       "Turkmenistan                  8\n",
       "Mozambique                    8\n",
       "Belarus                       8\n",
       "Laos                          8\n",
       "Kuwait                        8\n",
       "Libya                         8\n",
       "Rwanda                        8\n",
       "Yemen                         8\n",
       "Namibia                       8\n",
       "Congo (Brazzaville)           8\n",
       "Turkey                        8\n",
       "Azerbaijan                    8\n",
       "Palestinian Territories       8\n",
       "Burundi                       7\n",
       "Czech Republic                7\n",
       "Comoros                       7\n",
       "Congo (Kinshasa)              7\n",
       "Haiti                         7\n",
       "Lesotho                       7\n",
       "Trinidad and Tobago           6\n",
       "North Cyprus                  6\n",
       "Gambia                        5\n",
       "Qatar                         5\n",
       "Central African Republic      5\n",
       "Syria                         5\n",
       "South Sudan                   5\n",
       "Bhutan                        5\n",
       "Sudan                         4\n",
       "Angola                        4\n",
       "Somalia                       4\n",
       "Swaziland                     4\n",
       "Belize                        3\n",
       "Maldives                      2\n",
       "Czechia                       2\n",
       "Suriname                      2\n",
       "Congo                         1\n",
       "Eswatini                      1\n",
       "State of Palestine            1\n",
       "Somaliland region             1\n",
       "Somaliland Region             1\n",
       "Puerto Rico                   1\n",
       "Djibouti                      1\n",
       "Oman                          1\n",
       "Turkiye                       1\n",
       "Name: country, dtype: int64"
      ]
     },
     "execution_count": 29,
     "metadata": {},
     "output_type": "execute_result"
    }
   ],
   "source": [
    "#how many entries we have for each country; we expect value 9, since we have data for 9 years\n",
    "#shown in descending order (highest value first)\n",
    "whr_df[\"country\"].value_counts().sort_values(ascending = False).head(200)"
   ]
  },
  {
   "cell_type": "markdown",
   "id": "6c8d34cc",
   "metadata": {},
   "source": [
    "#### addressing some inconsistencies in column \"country\""
   ]
  },
  {
   "cell_type": "code",
   "execution_count": 31,
   "id": "3b309b90",
   "metadata": {},
   "outputs": [],
   "source": [
    "# Replace the values in the \"country\" column\n",
    "whr_df[\"country\"].replace({\"Turkey\": \"Turkiye\", \"Czech Republic\": \"Czechia\", \"Palestinian Territories\": \"State of Palestine\"}, inplace=True)"
   ]
  },
  {
   "cell_type": "code",
   "execution_count": 32,
   "id": "6c547ff3",
   "metadata": {},
   "outputs": [],
   "source": [
    "# Replace the values for Cyprus in 2018 and 2019\n",
    "whr_df.loc[(whr_df[\"country\"] == \"Cyprus\") & (whr_df[\"happiness_score\"] == 5.835) & (whr_df[\"year\"] == 2018), \"country\"] = \"North Cyprus\"\n",
    "whr_df.loc[(whr_df[\"country\"] == \"Cyprus\") & (whr_df[\"happiness_score\"] == 5.718) & (whr_df[\"year\"] == 2019), \"country\"] = \"North Cyprus\""
   ]
  },
  {
   "cell_type": "code",
   "execution_count": 33,
   "id": "b6772628",
   "metadata": {},
   "outputs": [],
   "source": [
    "# Replace the value Somaliland in the \"country\" column\n",
    "whr_df[\"country\"] = whr_df[\"country\"].replace(\"Somaliland region\", \"Somaliland Region\")"
   ]
  },
  {
   "cell_type": "code",
   "execution_count": 39,
   "id": "ffc6d37c",
   "metadata": {},
   "outputs": [
    {
     "data": {
      "text/plain": [
       "Switzerland                  9\n",
       "Venezuela                    9\n",
       "Panama                       9\n",
       "Germany                      9\n",
       "New Zealand                  9\n",
       "Chile                        9\n",
       "Sweden                       9\n",
       "France                       9\n",
       "Argentina                    9\n",
       "Czechia                      9\n",
       "Kosovo                       9\n",
       "Netherlands                  9\n",
       "Finland                      9\n",
       "Uruguay                      9\n",
       "Colombia                     9\n",
       "Hungary                      9\n",
       "Saudi Arabia                 9\n",
       "Spain                        9\n",
       "Malta                        9\n",
       "Taiwan Province of China     9\n",
       "Belgium                      9\n",
       "Canada                       9\n",
       "Austria                      9\n",
       "El Salvador                  9\n",
       "Guatemala                    9\n",
       "Uzbekistan                   9\n",
       "Japan                        9\n",
       "Mexico                       9\n",
       "China                        9\n",
       "Hong Kong S.A.R. of China    9\n",
       "Liberia                      9\n",
       "Singapore                    9\n",
       "Australia                    9\n",
       "Nepal                        9\n",
       "Slovakia                     9\n",
       "United Kingdom               9\n",
       "Ecuador                      9\n",
       "Ireland                      9\n",
       "Bahrain                      9\n",
       "Italy                        9\n",
       "Bolivia                      9\n",
       "Israel                       9\n",
       "Moldova                      9\n",
       "Paraguay                     9\n",
       "Denmark                      9\n",
       "Kazakhstan                   9\n",
       "Slovenia                     9\n",
       "Lithuania                    9\n",
       "Nicaragua                    9\n",
       "Peru                         9\n",
       "Luxembourg                   9\n",
       "Poland                       9\n",
       "Malaysia                     9\n",
       "Croatia                      9\n",
       "Costa Rica                   9\n",
       "Brazil                       9\n",
       "Russia                       9\n",
       "Jamaica                      9\n",
       "United States                9\n",
       "Cyprus                       9\n",
       "Algeria                      9\n",
       "Norway                       9\n",
       "United Arab Emirates         9\n",
       "South Korea                  9\n",
       "India                        9\n",
       "Thailand                     9\n",
       "Ethiopia                     9\n",
       "Serbia                       9\n",
       "Zambia                       9\n",
       "Iceland                      9\n",
       "Montenegro                   9\n",
       "Latvia                       9\n",
       "Jordan                       9\n",
       "Nigeria                      9\n",
       "Kyrgyzstan                   9\n",
       "Turkiye                      9\n",
       "Vietnam                      9\n",
       "Indonesia                    9\n",
       "Estonia                      9\n",
       "Pakistan                     9\n",
       "Mauritius                    9\n",
       "Philippines                  9\n",
       "North Macedonia              9\n",
       "Sierra Leone                 9\n",
       "Iran                         9\n",
       "Bangladesh                   9\n",
       "State of Palestine           9\n",
       "Tunisia                      9\n",
       "Tajikistan                   9\n",
       "Morocco                      9\n",
       "Honduras                     9\n",
       "Lebanon                      9\n",
       "Greece                       9\n",
       "Mongolia                     9\n",
       "Dominican Republic           9\n",
       "Bosnia and Herzegovina       9\n",
       "Albania                      9\n",
       "Romania                      9\n",
       "Ukraine                      9\n",
       "Portugal                     9\n",
       "Afghanistan                  9\n",
       "Iraq                         9\n",
       "Mauritania                   9\n",
       "Kenya                        9\n",
       "Armenia                      9\n",
       "Botswana                     9\n",
       "Myanmar                      9\n",
       "Georgia                      9\n",
       "Malawi                       9\n",
       "Sri Lanka                    9\n",
       "Cameroon                     9\n",
       "Bulgaria                     9\n",
       "Egypt                        9\n",
       "Mali                         9\n",
       "Benin                        9\n",
       "Togo                         9\n",
       "Burkina Faso                 9\n",
       "Niger                        9\n",
       "South Africa                 9\n",
       "Ghana                        9\n",
       "Madagascar                   9\n",
       "Uganda                       9\n",
       "Gabon                        9\n",
       "Senegal                      9\n",
       "Cambodia                     9\n",
       "Tanzania                     9\n",
       "Chad                         9\n",
       "Zimbabwe                     9\n",
       "Guinea                       9\n",
       "Ivory Coast                  9\n",
       "Belarus                      8\n",
       "Rwanda                       8\n",
       "North Cyprus                 8\n",
       "Namibia                      8\n",
       "Azerbaijan                   8\n",
       "Libya                        8\n",
       "Kuwait                       8\n",
       "Mozambique                   8\n",
       "Turkmenistan                 8\n",
       "Yemen                        8\n",
       "Congo (Brazzaville)          8\n",
       "Laos                         8\n",
       "Burundi                      7\n",
       "Congo (Kinshasa)             7\n",
       "Comoros                      7\n",
       "Lesotho                      7\n",
       "Haiti                        7\n",
       "Trinidad and Tobago          6\n",
       "Syria                        5\n",
       "Central African Republic     5\n",
       "Qatar                        5\n",
       "Bhutan                       5\n",
       "South Sudan                  5\n",
       "Gambia                       5\n",
       "Sudan                        4\n",
       "Swaziland                    4\n",
       "Angola                       4\n",
       "Somalia                      4\n",
       "Belize                       3\n",
       "Suriname                     2\n",
       "Somaliland Region            2\n",
       "Maldives                     2\n",
       "Puerto Rico                  1\n",
       "Djibouti                     1\n",
       "Oman                         1\n",
       "Congo                        1\n",
       "Eswatini                     1\n",
       "Name: country, dtype: int64"
      ]
     },
     "execution_count": 39,
     "metadata": {},
     "output_type": "execute_result"
    }
   ],
   "source": [
    "#how many entries we have for each country; we addressed some of the issues, for those country who have less than 9 entries the data for some years is missing.\n",
    "#shown in descending order (highest value first)\n",
    "whr_df[\"country\"].value_counts().sort_values(ascending = False).head(200)"
   ]
  },
  {
   "cell_type": "markdown",
   "id": "37f83050",
   "metadata": {},
   "source": [
    "#### addressing some inconsistencies in column \"region\""
   ]
  },
  {
   "cell_type": "code",
   "execution_count": 30,
   "id": "7e85731f",
   "metadata": {
    "scrolled": true
   },
   "outputs": [
    {
     "data": {
      "text/plain": [
       "Sub-Saharan Africa                    337\n",
       "Central and Eastern Europe            214\n",
       "Latin America and Caribbean           190\n",
       "Western Europe                        188\n",
       "Middle East and North Africa          161\n",
       "Southeast Asia                         80\n",
       "South Asia                             61\n",
       "East Asia                              54\n",
       "Commonwealth of Independent States     44\n",
       "North America and ANZ                  36\n",
       "Africa                                  2\n",
       "Name: region, dtype: int64"
      ]
     },
     "execution_count": 30,
     "metadata": {},
     "output_type": "execute_result"
    }
   ],
   "source": [
    "#how many entries we have for each region\n",
    "whr_df['region'].value_counts()"
   ]
  },
  {
   "cell_type": "code",
   "execution_count": 40,
   "id": "b308c830",
   "metadata": {},
   "outputs": [],
   "source": [
    "# filter the DataFrame for the \"Africa\" region\n",
    "africa_df = whr_df[whr_df['region'] == 'Africa']"
   ]
  },
  {
   "cell_type": "code",
   "execution_count": 41,
   "id": "7ad12f70",
   "metadata": {},
   "outputs": [
    {
     "data": {
      "text/html": [
       "<div>\n",
       "<style scoped>\n",
       "    .dataframe tbody tr th:only-of-type {\n",
       "        vertical-align: middle;\n",
       "    }\n",
       "\n",
       "    .dataframe tbody tr th {\n",
       "        vertical-align: top;\n",
       "    }\n",
       "\n",
       "    .dataframe thead th {\n",
       "        text-align: right;\n",
       "    }\n",
       "</style>\n",
       "<table border=\"1\" class=\"dataframe\">\n",
       "  <thead>\n",
       "    <tr style=\"text-align: right;\">\n",
       "      <th></th>\n",
       "      <th>country</th>\n",
       "      <th>region</th>\n",
       "      <th>happiness_score</th>\n",
       "      <th>gdp_per_capita</th>\n",
       "      <th>social_support</th>\n",
       "      <th>healthy_life_expectancy</th>\n",
       "      <th>freedom_to_make_life_choices</th>\n",
       "      <th>generosity</th>\n",
       "      <th>perceptions_of_corruption</th>\n",
       "      <th>year</th>\n",
       "    </tr>\n",
       "  </thead>\n",
       "  <tbody>\n",
       "    <tr>\n",
       "      <th>90</th>\n",
       "      <td>Somaliland Region</td>\n",
       "      <td>Africa</td>\n",
       "      <td>5.057</td>\n",
       "      <td>0.18847</td>\n",
       "      <td>0.95152</td>\n",
       "      <td>0.43873</td>\n",
       "      <td>0.46582</td>\n",
       "      <td>0.50318</td>\n",
       "      <td>0.39928</td>\n",
       "      <td>2015</td>\n",
       "    </tr>\n",
       "    <tr>\n",
       "      <th>254</th>\n",
       "      <td>Somaliland Region</td>\n",
       "      <td>Africa</td>\n",
       "      <td>5.057</td>\n",
       "      <td>0.25558</td>\n",
       "      <td>0.75862</td>\n",
       "      <td>0.33108</td>\n",
       "      <td>0.39130</td>\n",
       "      <td>0.51479</td>\n",
       "      <td>0.36794</td>\n",
       "      <td>2016</td>\n",
       "    </tr>\n",
       "  </tbody>\n",
       "</table>\n",
       "</div>"
      ],
      "text/plain": [
       "               country  region  happiness_score  gdp_per_capita  \\\n",
       "90   Somaliland Region  Africa            5.057         0.18847   \n",
       "254  Somaliland Region  Africa            5.057         0.25558   \n",
       "\n",
       "     social_support  healthy_life_expectancy  freedom_to_make_life_choices  \\\n",
       "90          0.95152                  0.43873                       0.46582   \n",
       "254         0.75862                  0.33108                       0.39130   \n",
       "\n",
       "     generosity  perceptions_of_corruption  year  \n",
       "90      0.50318                    0.39928  2015  \n",
       "254     0.51479                    0.36794  2016  "
      ]
     },
     "execution_count": 41,
     "metadata": {},
     "output_type": "execute_result"
    }
   ],
   "source": [
    "africa_df"
   ]
  },
  {
   "cell_type": "code",
   "execution_count": 42,
   "id": "4b70e02b",
   "metadata": {},
   "outputs": [],
   "source": [
    "# Replace the values for Africa into Sub-Saharan Africa  in the \"region\" column\n",
    "whr_df[\"region\"] = whr_df[\"region\"].replace(\"Africa\", \"Sub-Saharan Africa\")"
   ]
  },
  {
   "cell_type": "code",
   "execution_count": 44,
   "id": "f0f5992d",
   "metadata": {},
   "outputs": [
    {
     "data": {
      "text/plain": [
       "Sub-Saharan Africa                    339\n",
       "Central and Eastern Europe            214\n",
       "Latin America and Caribbean           190\n",
       "Western Europe                        188\n",
       "Middle East and North Africa          161\n",
       "Southeast Asia                         80\n",
       "South Asia                             61\n",
       "East Asia                              54\n",
       "Commonwealth of Independent States     44\n",
       "North America and ANZ                  36\n",
       "Name: region, dtype: int64"
      ]
     },
     "execution_count": 44,
     "metadata": {},
     "output_type": "execute_result"
    }
   ],
   "source": [
    "#how many entries we have for each region\n",
    "whr_df['region'].value_counts()"
   ]
  },
  {
   "cell_type": "markdown",
   "id": "62a0457c",
   "metadata": {},
   "source": [
    "#### Visualisation for categorical features"
   ]
  },
  {
   "cell_type": "code",
   "execution_count": 79,
   "id": "e5a5bb0b",
   "metadata": {},
   "outputs": [
    {
     "data": {
      "text/plain": [
       "<AxesSubplot:title={'center':'Absolute frequency distribution of regions'}>"
      ]
     },
     "execution_count": 79,
     "metadata": {},
     "output_type": "execute_result"
    },
    {
     "data": {
      "image/png": "[encoded data removed]",
      "text/plain": [
       "<Figure size 640x480 with 1 Axes>"
      ]
     },
     "metadata": {},
     "output_type": "display_data"
    }
   ],
   "source": [
    "whr_df['region'].value_counts().plot(kind='bar', title='Absolute frequency distribution of regions')"
   ]
  },
  {
   "cell_type": "markdown",
   "id": "05d4ce01",
   "metadata": {},
   "source": [
    "### Exploring numerical columns"
   ]
  },
  {
   "cell_type": "code",
   "execution_count": 19,
   "id": "dbeace49",
   "metadata": {},
   "outputs": [
    {
     "data": {
      "text/html": [
       "<div>\n",
       "<style scoped>\n",
       "    .dataframe tbody tr th:only-of-type {\n",
       "        vertical-align: middle;\n",
       "    }\n",
       "\n",
       "    .dataframe tbody tr th {\n",
       "        vertical-align: top;\n",
       "    }\n",
       "\n",
       "    .dataframe thead th {\n",
       "        text-align: right;\n",
       "    }\n",
       "</style>\n",
       "<table border=\"1\" class=\"dataframe\">\n",
       "  <thead>\n",
       "    <tr style=\"text-align: right;\">\n",
       "      <th></th>\n",
       "      <th>happiness_score</th>\n",
       "      <th>gdp_per_capita</th>\n",
       "      <th>social_support</th>\n",
       "      <th>healthy_life_expectancy</th>\n",
       "      <th>freedom_to_make_life_choices</th>\n",
       "      <th>generosity</th>\n",
       "      <th>perceptions_of_corruption</th>\n",
       "      <th>year</th>\n",
       "    </tr>\n",
       "  </thead>\n",
       "  <tbody>\n",
       "    <tr>\n",
       "      <th>count</th>\n",
       "      <td>1367.000000</td>\n",
       "      <td>1367.000000</td>\n",
       "      <td>1367.000000</td>\n",
       "      <td>1366.000000</td>\n",
       "      <td>1367.000000</td>\n",
       "      <td>1367.000000</td>\n",
       "      <td>1366.000000</td>\n",
       "      <td>1367.000000</td>\n",
       "    </tr>\n",
       "    <tr>\n",
       "      <th>mean</th>\n",
       "      <td>5.441086</td>\n",
       "      <td>1.019422</td>\n",
       "      <td>1.045334</td>\n",
       "      <td>0.584043</td>\n",
       "      <td>0.450771</td>\n",
       "      <td>0.196260</td>\n",
       "      <td>0.132275</td>\n",
       "      <td>2018.903438</td>\n",
       "    </tr>\n",
       "    <tr>\n",
       "      <th>std</th>\n",
       "      <td>1.117909</td>\n",
       "      <td>0.453703</td>\n",
       "      <td>0.331163</td>\n",
       "      <td>0.245117</td>\n",
       "      <td>0.156733</td>\n",
       "      <td>0.113301</td>\n",
       "      <td>0.112555</td>\n",
       "      <td>2.561006</td>\n",
       "    </tr>\n",
       "    <tr>\n",
       "      <th>min</th>\n",
       "      <td>1.859000</td>\n",
       "      <td>0.000000</td>\n",
       "      <td>0.000000</td>\n",
       "      <td>0.000000</td>\n",
       "      <td>0.000000</td>\n",
       "      <td>0.000000</td>\n",
       "      <td>0.000000</td>\n",
       "      <td>2015.000000</td>\n",
       "    </tr>\n",
       "    <tr>\n",
       "      <th>25%</th>\n",
       "      <td>4.599500</td>\n",
       "      <td>0.696326</td>\n",
       "      <td>0.832022</td>\n",
       "      <td>0.402301</td>\n",
       "      <td>0.356000</td>\n",
       "      <td>0.115000</td>\n",
       "      <td>0.056826</td>\n",
       "      <td>2017.000000</td>\n",
       "    </tr>\n",
       "    <tr>\n",
       "      <th>50%</th>\n",
       "      <td>5.440000</td>\n",
       "      <td>1.043000</td>\n",
       "      <td>1.083000</td>\n",
       "      <td>0.612830</td>\n",
       "      <td>0.467610</td>\n",
       "      <td>0.182700</td>\n",
       "      <td>0.097000</td>\n",
       "      <td>2019.000000</td>\n",
       "    </tr>\n",
       "    <tr>\n",
       "      <th>75%</th>\n",
       "      <td>6.256300</td>\n",
       "      <td>1.338473</td>\n",
       "      <td>1.299985</td>\n",
       "      <td>0.777614</td>\n",
       "      <td>0.568685</td>\n",
       "      <td>0.252858</td>\n",
       "      <td>0.165945</td>\n",
       "      <td>2021.000000</td>\n",
       "    </tr>\n",
       "    <tr>\n",
       "      <th>max</th>\n",
       "      <td>7.842000</td>\n",
       "      <td>2.209000</td>\n",
       "      <td>1.644000</td>\n",
       "      <td>1.141000</td>\n",
       "      <td>0.772000</td>\n",
       "      <td>0.838075</td>\n",
       "      <td>0.587000</td>\n",
       "      <td>2023.000000</td>\n",
       "    </tr>\n",
       "  </tbody>\n",
       "</table>\n",
       "</div>"
      ],
      "text/plain": [
       "       happiness_score  gdp_per_capita  social_support  \\\n",
       "count      1367.000000     1367.000000     1367.000000   \n",
       "mean          5.441086        1.019422        1.045334   \n",
       "std           1.117909        0.453703        0.331163   \n",
       "min           1.859000        0.000000        0.000000   \n",
       "25%           4.599500        0.696326        0.832022   \n",
       "50%           5.440000        1.043000        1.083000   \n",
       "75%           6.256300        1.338473        1.299985   \n",
       "max           7.842000        2.209000        1.644000   \n",
       "\n",
       "       healthy_life_expectancy  freedom_to_make_life_choices   generosity  \\\n",
       "count              1366.000000                   1367.000000  1367.000000   \n",
       "mean                  0.584043                      0.450771     0.196260   \n",
       "std                   0.245117                      0.156733     0.113301   \n",
       "min                   0.000000                      0.000000     0.000000   \n",
       "25%                   0.402301                      0.356000     0.115000   \n",
       "50%                   0.612830                      0.467610     0.182700   \n",
       "75%                   0.777614                      0.568685     0.252858   \n",
       "max                   1.141000                      0.772000     0.838075   \n",
       "\n",
       "       perceptions_of_corruption         year  \n",
       "count                1366.000000  1367.000000  \n",
       "mean                    0.132275  2018.903438  \n",
       "std                     0.112555     2.561006  \n",
       "min                     0.000000  2015.000000  \n",
       "25%                     0.056826  2017.000000  \n",
       "50%                     0.097000  2019.000000  \n",
       "75%                     0.165945  2021.000000  \n",
       "max                     0.587000  2023.000000  "
      ]
     },
     "execution_count": 19,
     "metadata": {},
     "output_type": "execute_result"
    }
   ],
   "source": [
    "whr_df.describe()"
   ]
  },
  {
   "cell_type": "raw",
   "id": "fbb9ccaf",
   "metadata": {},
   "source": []
  },
  {
   "cell_type": "markdown",
   "id": "f80a0cc8",
   "metadata": {},
   "source": [
    "#### Based on the 0 min value for several columns, checking how many entries are affected. However, since the values for happiness score are available i will leave these entries as are. "
   ]
  },
  {
   "cell_type": "code",
   "execution_count": 67,
   "id": "ba487684",
   "metadata": {},
   "outputs": [
    {
     "name": "stdout",
     "output_type": "stream",
     "text": [
      "Number of rows with 0 values in 'gdp_per_capita': 9\n"
     ]
    }
   ],
   "source": [
    "# Locate rows with 0 values in the \"gdp_per_capita\" column\n",
    "zero_gdp_rows = whr_df[whr_df['gdp_per_capita'] == 0]\n",
    "\n",
    "# Count the number of rows with 0 values\n",
    "num_zero_gdp_rows = len(zero_gdp_rows)\n",
    "\n",
    "# Display the number of rows with 0 values\n",
    "print(\"Number of rows with 0 values in 'gdp_per_capita':\", num_zero_gdp_rows)"
   ]
  },
  {
   "cell_type": "code",
   "execution_count": 68,
   "id": "b1280e79",
   "metadata": {},
   "outputs": [
    {
     "name": "stdout",
     "output_type": "stream",
     "text": [
      "Number of rows with 0 values in 'social_support': 9\n"
     ]
    }
   ],
   "source": [
    "# Locate rows with 0 values in the \"social_support\" column\n",
    "zero_social_support_rows = whr_df[whr_df['social_support'] == 0]\n",
    "\n",
    "# Count the number of rows with 0 values\n",
    "num_zero_social_support_rows = len(zero_social_support_rows)\n",
    "\n",
    "# Display the number of rows with 0 values\n",
    "print(\"Number of rows with 0 values in 'social_support':\", num_zero_social_support_rows)"
   ]
  },
  {
   "cell_type": "code",
   "execution_count": 69,
   "id": "abf30059",
   "metadata": {},
   "outputs": [
    {
     "name": "stdout",
     "output_type": "stream",
     "text": [
      "Number of rows with 0 values in 'healthy_life_expectancy': 9\n"
     ]
    }
   ],
   "source": [
    "# Locate rows with 0 values in the \"healthy_life_expectancy\" column\n",
    "zero_health_expectancy_rows = whr_df[whr_df['healthy_life_expectancy'] == 0]\n",
    "\n",
    "# Count the number of rows with 0 values\n",
    "num_zero_health_expectancy_rows = len(zero_health_expectancy_rows)\n",
    "\n",
    "# Display the number of rows with 0 values\n",
    "print(\"Number of rows with 0 values in 'healthy_life_expectancy':\", num_zero_health_expectancy_rows)\n"
   ]
  },
  {
   "cell_type": "code",
   "execution_count": 70,
   "id": "2147e023",
   "metadata": {},
   "outputs": [
    {
     "name": "stdout",
     "output_type": "stream",
     "text": [
      "Number of rows with 0 values in 'freedom_to_make_life_choices': 9\n"
     ]
    }
   ],
   "source": [
    "# Locate rows with 0 values in the \"freedom_to_make_life_choices\" column\n",
    "zero_freedom_rows = whr_df[whr_df['freedom_to_make_life_choices'] == 0]\n",
    "\n",
    "# Count the number of rows with 0 values\n",
    "num_zero_freedom_rows = len(zero_freedom_rows)\n",
    "\n",
    "# Display the number of rows with 0 values\n",
    "print(\"Number of rows with 0 values in 'freedom_to_make_life_choices':\", num_zero_freedom_rows)\n"
   ]
  },
  {
   "cell_type": "code",
   "execution_count": 71,
   "id": "85a5fa23",
   "metadata": {},
   "outputs": [
    {
     "name": "stdout",
     "output_type": "stream",
     "text": [
      "Number of rows with 0 values in 'generosity': 9\n"
     ]
    }
   ],
   "source": [
    "# Locate rows with 0 values in the \"generosity\" column\n",
    "zero_generosity_rows = whr_df[whr_df['generosity'] == 0]\n",
    "\n",
    "# Count the number of rows with 0 values\n",
    "num_zero_generosity_rows = len(zero_generosity_rows)\n",
    "\n",
    "# Display the number of rows with 0 values\n",
    "print(\"Number of rows with 0 values in 'generosity':\", num_zero_generosity_rows)\n",
    "\n"
   ]
  },
  {
   "cell_type": "code",
   "execution_count": 72,
   "id": "ef6d0a59",
   "metadata": {},
   "outputs": [
    {
     "name": "stdout",
     "output_type": "stream",
     "text": [
      "Number of rows with 0 values in 'perceptions_of_corruption': 10\n"
     ]
    }
   ],
   "source": [
    "# Locate rows with 0 values in the \"perceptions_of_corruption\" column\n",
    "zero_corruption_rows = whr_df[whr_df['perceptions_of_corruption'] == 0]\n",
    "\n",
    "# Count the number of rows with 0 values\n",
    "num_zero_corruption_rows = len(zero_corruption_rows)\n",
    "\n",
    "# Display the number of rows with 0 values\n",
    "print(\"Number of rows with 0 values in 'perceptions_of_corruption':\", num_zero_corruption_rows)\n"
   ]
  },
  {
   "cell_type": "code",
   "execution_count": 47,
   "id": "5a15b5e8",
   "metadata": {},
   "outputs": [],
   "source": [
    "#checking if whr_df contains mixed type columns\n",
    "for col in whr_df.columns.tolist():\n",
    "  weird = (whr_df[[col]].applymap(type) != whr_df[[col]].iloc[0].apply(type)).any(axis = 1)\n",
    "  if len (whr_df[weird]) > 0:\n",
    "    print (col) # no mixed type columns"
   ]
  },
  {
   "cell_type": "code",
   "execution_count": 48,
   "id": "0cb56aa6",
   "metadata": {},
   "outputs": [
    {
     "data": {
      "text/plain": [
       "country                         0\n",
       "region                          0\n",
       "happiness_score                 0\n",
       "gdp_per_capita                  0\n",
       "social_support                  0\n",
       "healthy_life_expectancy         1\n",
       "freedom_to_make_life_choices    0\n",
       "generosity                      0\n",
       "perceptions_of_corruption       1\n",
       "year                            0\n",
       "dtype: int64"
      ]
     },
     "execution_count": 48,
     "metadata": {},
     "output_type": "execute_result"
    }
   ],
   "source": [
    "whr_df.isnull().sum() # finding missing values"
   ]
  },
  {
   "cell_type": "code",
   "execution_count": 49,
   "id": "59e93aa0",
   "metadata": {},
   "outputs": [],
   "source": [
    "df_nan = whr_df[whr_df['healthy_life_expectancy']. isnull()== True] # to see these values"
   ]
  },
  {
   "cell_type": "code",
   "execution_count": 50,
   "id": "57eab4f9",
   "metadata": {},
   "outputs": [
    {
     "data": {
      "text/html": [
       "<div>\n",
       "<style scoped>\n",
       "    .dataframe tbody tr th:only-of-type {\n",
       "        vertical-align: middle;\n",
       "    }\n",
       "\n",
       "    .dataframe tbody tr th {\n",
       "        vertical-align: top;\n",
       "    }\n",
       "\n",
       "    .dataframe thead th {\n",
       "        text-align: right;\n",
       "    }\n",
       "</style>\n",
       "<table border=\"1\" class=\"dataframe\">\n",
       "  <thead>\n",
       "    <tr style=\"text-align: right;\">\n",
       "      <th></th>\n",
       "      <th>country</th>\n",
       "      <th>region</th>\n",
       "      <th>happiness_score</th>\n",
       "      <th>gdp_per_capita</th>\n",
       "      <th>social_support</th>\n",
       "      <th>healthy_life_expectancy</th>\n",
       "      <th>freedom_to_make_life_choices</th>\n",
       "      <th>generosity</th>\n",
       "      <th>perceptions_of_corruption</th>\n",
       "      <th>year</th>\n",
       "    </tr>\n",
       "  </thead>\n",
       "  <tbody>\n",
       "    <tr>\n",
       "      <th>1328</th>\n",
       "      <td>State of Palestine</td>\n",
       "      <td>Middle East and North Africa</td>\n",
       "      <td>4.908</td>\n",
       "      <td>1.144</td>\n",
       "      <td>1.309</td>\n",
       "      <td>NaN</td>\n",
       "      <td>0.416</td>\n",
       "      <td>0.065</td>\n",
       "      <td>0.067</td>\n",
       "      <td>2023</td>\n",
       "    </tr>\n",
       "  </tbody>\n",
       "</table>\n",
       "</div>"
      ],
      "text/plain": [
       "                 country                        region  happiness_score  \\\n",
       "1328  State of Palestine  Middle East and North Africa            4.908   \n",
       "\n",
       "      gdp_per_capita  social_support  healthy_life_expectancy  \\\n",
       "1328           1.144           1.309                      NaN   \n",
       "\n",
       "      freedom_to_make_life_choices  generosity  perceptions_of_corruption  \\\n",
       "1328                         0.416       0.065                      0.067   \n",
       "\n",
       "      year  \n",
       "1328  2023  "
      ]
     },
     "execution_count": 50,
     "metadata": {},
     "output_type": "execute_result"
    }
   ],
   "source": [
    "df_nan"
   ]
  },
  {
   "cell_type": "code",
   "execution_count": 51,
   "id": "4124d938",
   "metadata": {},
   "outputs": [],
   "source": [
    "df_nan1 = whr_df[whr_df['perceptions_of_corruption']. isnull()== True] # to see these values"
   ]
  },
  {
   "cell_type": "code",
   "execution_count": 52,
   "id": "40fbd595",
   "metadata": {},
   "outputs": [
    {
     "data": {
      "text/html": [
       "<div>\n",
       "<style scoped>\n",
       "    .dataframe tbody tr th:only-of-type {\n",
       "        vertical-align: middle;\n",
       "    }\n",
       "\n",
       "    .dataframe tbody tr th {\n",
       "        vertical-align: top;\n",
       "    }\n",
       "\n",
       "    .dataframe thead th {\n",
       "        text-align: right;\n",
       "    }\n",
       "</style>\n",
       "<table border=\"1\" class=\"dataframe\">\n",
       "  <thead>\n",
       "    <tr style=\"text-align: right;\">\n",
       "      <th></th>\n",
       "      <th>country</th>\n",
       "      <th>region</th>\n",
       "      <th>happiness_score</th>\n",
       "      <th>gdp_per_capita</th>\n",
       "      <th>social_support</th>\n",
       "      <th>healthy_life_expectancy</th>\n",
       "      <th>freedom_to_make_life_choices</th>\n",
       "      <th>generosity</th>\n",
       "      <th>perceptions_of_corruption</th>\n",
       "      <th>year</th>\n",
       "    </tr>\n",
       "  </thead>\n",
       "  <tbody>\n",
       "    <tr>\n",
       "      <th>489</th>\n",
       "      <td>United Arab Emirates</td>\n",
       "      <td>Middle East and North Africa</td>\n",
       "      <td>6.774</td>\n",
       "      <td>2.096</td>\n",
       "      <td>0.776</td>\n",
       "      <td>0.67</td>\n",
       "      <td>0.284</td>\n",
       "      <td>0.186</td>\n",
       "      <td>NaN</td>\n",
       "      <td>2018</td>\n",
       "    </tr>\n",
       "  </tbody>\n",
       "</table>\n",
       "</div>"
      ],
      "text/plain": [
       "                  country                        region  happiness_score  \\\n",
       "489  United Arab Emirates  Middle East and North Africa            6.774   \n",
       "\n",
       "     gdp_per_capita  social_support  healthy_life_expectancy  \\\n",
       "489           2.096           0.776                     0.67   \n",
       "\n",
       "     freedom_to_make_life_choices  generosity  perceptions_of_corruption  year  \n",
       "489                         0.284       0.186                        NaN  2018  "
      ]
     },
     "execution_count": 52,
     "metadata": {},
     "output_type": "execute_result"
    }
   ],
   "source": [
    "df_nan1"
   ]
  },
  {
   "cell_type": "code",
   "execution_count": 53,
   "id": "3970f328",
   "metadata": {},
   "outputs": [],
   "source": [
    "# Filling NA in column 'perceptions_of_corruption' with AVG value for 'United Arab Emirates' during all years.\n",
    "\n",
    "whr_df['perceptions_of_corruption'] = whr_df.groupby('country')['perceptions_of_corruption'].transform(lambda x: x.fillna(x.mean()))"
   ]
  },
  {
   "cell_type": "code",
   "execution_count": 54,
   "id": "2e754749",
   "metadata": {},
   "outputs": [],
   "source": [
    "#same for State of Palestine for the column healthy_life_expectancy\n",
    "whr_df['healthy_life_expectancy'] = whr_df.groupby('country')['healthy_life_expectancy'].transform(lambda x: x.fillna(x.mean()))"
   ]
  },
  {
   "cell_type": "code",
   "execution_count": 55,
   "id": "4f4afab8",
   "metadata": {},
   "outputs": [
    {
     "data": {
      "text/plain": [
       "country                         0\n",
       "region                          0\n",
       "happiness_score                 0\n",
       "gdp_per_capita                  0\n",
       "social_support                  0\n",
       "healthy_life_expectancy         0\n",
       "freedom_to_make_life_choices    0\n",
       "generosity                      0\n",
       "perceptions_of_corruption       0\n",
       "year                            0\n",
       "dtype: int64"
      ]
     },
     "execution_count": 55,
     "metadata": {},
     "output_type": "execute_result"
    }
   ],
   "source": [
    "#checking \n",
    "whr_df.isnull().sum() # finding missing values"
   ]
  },
  {
   "cell_type": "code",
   "execution_count": 56,
   "id": "8f22aff3",
   "metadata": {},
   "outputs": [
    {
     "name": "stdout",
     "output_type": "stream",
     "text": [
      "                  country                        region  happiness_score  \\\n",
      "489  United Arab Emirates  Middle East and North Africa            6.774   \n",
      "\n",
      "     gdp_per_capita  social_support  healthy_life_expectancy  \\\n",
      "489           2.096           0.776                     0.67   \n",
      "\n",
      "     freedom_to_make_life_choices  generosity  perceptions_of_corruption  year  \n",
      "489                         0.284       0.186                   0.273518  2018  \n"
     ]
    }
   ],
   "source": [
    "#checking the value \n",
    "uae_2018 = whr_df[(whr_df['country'] == 'United Arab Emirates') & (whr_df['year'] == 2018)]\n",
    "print(uae_2018)"
   ]
  },
  {
   "cell_type": "code",
   "execution_count": 59,
   "id": "1640c9fa",
   "metadata": {},
   "outputs": [
    {
     "name": "stdout",
     "output_type": "stream",
     "text": [
      "                 country                        region  happiness_score  \\\n",
      "1328  State of Palestine  Middle East and North Africa            4.908   \n",
      "\n",
      "      gdp_per_capita  social_support  healthy_life_expectancy  \\\n",
      "1328           1.144           1.309                 0.579635   \n",
      "\n",
      "      freedom_to_make_life_choices  generosity  perceptions_of_corruption  \\\n",
      "1328                         0.416       0.065                      0.067   \n",
      "\n",
      "      year  \n",
      "1328  2023  \n"
     ]
    }
   ],
   "source": [
    "#checking the value \n",
    "state_of_palestine_2023 = whr_df[(whr_df['country'] == 'State of Palestine') & (whr_df['year'] == 2023)]\n",
    "print(state_of_palestine_2023)"
   ]
  },
  {
   "cell_type": "code",
   "execution_count": 61,
   "id": "4f7c5fcd",
   "metadata": {},
   "outputs": [],
   "source": [
    "#Finding Duplicates\n",
    "df_dups = whr_df[whr_df.duplicated()] # no duplicates found"
   ]
  },
  {
   "cell_type": "code",
   "execution_count": 63,
   "id": "4b5c94fe",
   "metadata": {},
   "outputs": [],
   "source": [
    "#set the precision to 2 decimal places\n",
    "pd.set_option(\"display.precision\", 2)"
   ]
  },
  {
   "cell_type": "code",
   "execution_count": 64,
   "id": "bf43bfaa",
   "metadata": {},
   "outputs": [
    {
     "data": {
      "text/html": [
       "<div>\n",
       "<style scoped>\n",
       "    .dataframe tbody tr th:only-of-type {\n",
       "        vertical-align: middle;\n",
       "    }\n",
       "\n",
       "    .dataframe tbody tr th {\n",
       "        vertical-align: top;\n",
       "    }\n",
       "\n",
       "    .dataframe thead th {\n",
       "        text-align: right;\n",
       "    }\n",
       "</style>\n",
       "<table border=\"1\" class=\"dataframe\">\n",
       "  <thead>\n",
       "    <tr style=\"text-align: right;\">\n",
       "      <th></th>\n",
       "      <th>country</th>\n",
       "      <th>region</th>\n",
       "      <th>happiness_score</th>\n",
       "      <th>gdp_per_capita</th>\n",
       "      <th>social_support</th>\n",
       "      <th>healthy_life_expectancy</th>\n",
       "      <th>freedom_to_make_life_choices</th>\n",
       "      <th>generosity</th>\n",
       "      <th>perceptions_of_corruption</th>\n",
       "      <th>year</th>\n",
       "    </tr>\n",
       "  </thead>\n",
       "  <tbody>\n",
       "    <tr>\n",
       "      <th>0</th>\n",
       "      <td>Switzerland</td>\n",
       "      <td>Western Europe</td>\n",
       "      <td>7.59</td>\n",
       "      <td>1.40</td>\n",
       "      <td>1.35</td>\n",
       "      <td>0.94</td>\n",
       "      <td>0.67</td>\n",
       "      <td>0.30</td>\n",
       "      <td>0.42</td>\n",
       "      <td>2015</td>\n",
       "    </tr>\n",
       "    <tr>\n",
       "      <th>1</th>\n",
       "      <td>Iceland</td>\n",
       "      <td>Western Europe</td>\n",
       "      <td>7.56</td>\n",
       "      <td>1.30</td>\n",
       "      <td>1.40</td>\n",
       "      <td>0.95</td>\n",
       "      <td>0.63</td>\n",
       "      <td>0.44</td>\n",
       "      <td>0.14</td>\n",
       "      <td>2015</td>\n",
       "    </tr>\n",
       "    <tr>\n",
       "      <th>2</th>\n",
       "      <td>Denmark</td>\n",
       "      <td>Western Europe</td>\n",
       "      <td>7.53</td>\n",
       "      <td>1.33</td>\n",
       "      <td>1.36</td>\n",
       "      <td>0.87</td>\n",
       "      <td>0.65</td>\n",
       "      <td>0.34</td>\n",
       "      <td>0.48</td>\n",
       "      <td>2015</td>\n",
       "    </tr>\n",
       "  </tbody>\n",
       "</table>\n",
       "</div>"
      ],
      "text/plain": [
       "       country          region  happiness_score  gdp_per_capita  \\\n",
       "0  Switzerland  Western Europe             7.59            1.40   \n",
       "1      Iceland  Western Europe             7.56            1.30   \n",
       "2      Denmark  Western Europe             7.53            1.33   \n",
       "\n",
       "   social_support  healthy_life_expectancy  freedom_to_make_life_choices  \\\n",
       "0            1.35                     0.94                          0.67   \n",
       "1            1.40                     0.95                          0.63   \n",
       "2            1.36                     0.87                          0.65   \n",
       "\n",
       "   generosity  perceptions_of_corruption  year  \n",
       "0        0.30                       0.42  2015  \n",
       "1        0.44                       0.14  2015  \n",
       "2        0.34                       0.48  2015  "
      ]
     },
     "execution_count": 64,
     "metadata": {},
     "output_type": "execute_result"
    }
   ],
   "source": [
    "whr_df.head(3)"
   ]
  },
  {
   "cell_type": "code",
   "execution_count": 65,
   "id": "4f4b8961",
   "metadata": {},
   "outputs": [
    {
     "data": {
      "text/plain": [
       "country                          object\n",
       "region                           object\n",
       "happiness_score                 float64\n",
       "gdp_per_capita                  float64\n",
       "social_support                  float64\n",
       "healthy_life_expectancy         float64\n",
       "freedom_to_make_life_choices    float64\n",
       "generosity                      float64\n",
       "perceptions_of_corruption       float64\n",
       "year                              int64\n",
       "dtype: object"
      ]
     },
     "execution_count": 65,
     "metadata": {},
     "output_type": "execute_result"
    }
   ],
   "source": [
    "whr_df.dtypes"
   ]
  },
  {
   "cell_type": "code",
   "execution_count": 73,
   "id": "ee51c42f",
   "metadata": {},
   "outputs": [
    {
     "name": "stdout",
     "output_type": "stream",
     "text": [
      "happiness_score                   1\n",
      "gdp_per_capita                    0\n",
      "social_support                   14\n",
      "healthy_life_expectancy           0\n",
      "freedom_to_make_life_choices     17\n",
      "generosity                       50\n",
      "perceptions_of_corruption       110\n",
      "year                              0\n",
      "dtype: int64\n"
     ]
    }
   ],
   "source": [
    "# Use IQR to find the outlier\n",
    "df_n = whr_df.iloc[:, 2:]\n",
    "\n",
    "def detect_outliers_iqr(column, threshold=1.5):\n",
    "    q1 = column.quantile(0.25)\n",
    "    q3 = column.quantile(0.75)\n",
    "    iqr = q3 - q1\n",
    "    lower_bound = q1 - threshold * iqr\n",
    "    upper_bound = q3 + threshold * iqr\n",
    "    outliers = (column < lower_bound) | (column > upper_bound)\n",
    "    return outliers\n",
    "\n",
    "outliers = df_n.apply(detect_outliers_iqr)\n",
    "\n",
    "print(outliers.sum())"
   ]
  },
  {
   "cell_type": "code",
   "execution_count": 78,
   "id": "05c00153",
   "metadata": {},
   "outputs": [
    {
     "name": "stdout",
     "output_type": "stream",
     "text": [
      "                        country  year  perceptions_of_corruption\n",
      "0                   Switzerland  2015                       0.42\n",
      "2                       Denmark  2015                       0.48\n",
      "3                        Norway  2015                       0.37\n",
      "5                       Finland  2015                       0.41\n",
      "7                        Sweden  2015                       0.44\n",
      "8                   New Zealand  2015                       0.43\n",
      "9                     Australia  2015                       0.36\n",
      "16                   Luxembourg  2015                       0.38\n",
      "19         United Arab Emirates  2015                       0.39\n",
      "23                    Singapore  2015                       0.49\n",
      "27                        Qatar  2015                       0.52\n",
      "71    Hong Kong S.A.R. of China  2015                       0.37\n",
      "90            Somaliland Region  2015                       0.40\n",
      "129                     Georgia  2015                       0.38\n",
      "153                      Rwanda  2015                       0.55\n",
      "158                     Denmark  2016                       0.44\n",
      "159                 Switzerland  2016                       0.41\n",
      "161                      Norway  2016                       0.36\n",
      "162                     Finland  2016                       0.41\n",
      "165                 New Zealand  2016                       0.42\n",
      "167                      Sweden  2016                       0.41\n",
      "177                  Luxembourg  2016                       0.35\n",
      "179                   Singapore  2016                       0.47\n",
      "185        United Arab Emirates  2016                       0.36\n",
      "193                       Qatar  2016                       0.48\n",
      "254           Somaliland Region  2016                       0.37\n",
      "309                      Rwanda  2016                       0.51\n",
      "316                     Denmark  2017                       0.40\n",
      "318                 Switzerland  2017                       0.37\n",
      "319                     Finland  2017                       0.38\n",
      "322                 New Zealand  2017                       0.38\n",
      "323                      Sweden  2017                       0.38\n",
      "340                   Singapore  2017                       0.46\n",
      "349                       Qatar  2017                       0.44\n",
      "465                      Rwanda  2017                       0.46\n",
      "470                     Finland  2018                       0.39\n",
      "471                      Norway  2018                       0.34\n",
      "472                     Denmark  2018                       0.41\n",
      "474                 Switzerland  2018                       0.36\n",
      "477                 New Zealand  2018                       0.39\n",
      "478                      Sweden  2018                       0.38\n",
      "503                   Singapore  2018                       0.46\n",
      "620                      Rwanda  2018                       0.44\n",
      "626                     Finland  2019                       0.39\n",
      "627                     Denmark  2019                       0.41\n",
      "628                      Norway  2019                       0.34\n",
      "631                 Switzerland  2019                       0.34\n",
      "632                      Sweden  2019                       0.37\n",
      "633                 New Zealand  2019                       0.38\n",
      "659                   Singapore  2019                       0.45\n",
      "777                      Rwanda  2019                       0.41\n",
      "782                     Finland  2020                       0.48\n",
      "783                     Denmark  2020                       0.50\n",
      "784                 Switzerland  2020                       0.41\n",
      "786                      Norway  2020                       0.43\n",
      "787                 Netherlands  2020                       0.37\n",
      "788                      Sweden  2020                       0.44\n",
      "789                 New Zealand  2020                       0.46\n",
      "791                  Luxembourg  2020                       0.37\n",
      "792                      Canada  2020                       0.35\n",
      "793                   Australia  2020                       0.34\n",
      "797                     Ireland  2020                       0.37\n",
      "812                   Singapore  2020                       0.53\n",
      "859   Hong Kong S.A.R. of China  2020                       0.33\n",
      "931                      Rwanda  2020                       0.49\n",
      "935                     Finland  2021                       0.48\n",
      "936                     Denmark  2021                       0.48\n",
      "937                 Switzerland  2021                       0.41\n",
      "939                 Netherlands  2021                       0.38\n",
      "940                      Norway  2021                       0.43\n",
      "941                      Sweden  2021                       0.45\n",
      "942                  Luxembourg  2021                       0.35\n",
      "943                 New Zealand  2021                       0.45\n",
      "948                      Canada  2021                       0.34\n",
      "949                     Ireland  2021                       0.37\n",
      "966                   Singapore  2021                       0.55\n",
      "1011  Hong Kong S.A.R. of China  2021                       0.34\n",
      "1081                     Rwanda  2021                       0.49\n",
      "1084                    Finland  2022                       0.53\n",
      "1085                    Denmark  2022                       0.53\n",
      "1087                Switzerland  2022                       0.46\n",
      "1088                Netherlands  2022                       0.42\n",
      "1089                 Luxembourg  2022                       0.39\n",
      "1090                     Sweden  2022                       0.51\n",
      "1091                     Norway  2022                       0.47\n",
      "1093                New Zealand  2022                       0.48\n",
      "1095                  Australia  2022                       0.34\n",
      "1096                    Ireland  2022                       0.41\n",
      "1097                    Germany  2022                       0.36\n",
      "1098                     Canada  2022                       0.37\n",
      "1110                  Singapore  2022                       0.59\n",
      "1119                    Estonia  2022                       0.33\n",
      "1164  Hong Kong S.A.R. of China  2022                       0.38\n",
      "1175                 Azerbaijan  2022                       0.34\n",
      "1226                     Rwanda  2022                       0.54\n",
      "1230                    Finland  2023                       0.54\n",
      "1231                    Denmark  2023                       0.53\n",
      "1234                Netherlands  2023                       0.39\n",
      "1235                     Sweden  2023                       0.52\n",
      "1236                     Norway  2023                       0.46\n",
      "1237                Switzerland  2023                       0.47\n",
      "1238                 Luxembourg  2023                       0.42\n",
      "1239                New Zealand  2023                       0.47\n",
      "1242                     Canada  2023                       0.36\n",
      "1243                    Ireland  2023                       0.41\n",
      "1245                    Germany  2023                       0.36\n",
      "1248             United Kingdom  2023                       0.34\n",
      "1254                  Singapore  2023                       0.56\n",
      "1260                    Estonia  2023                       0.37\n",
      "1311  Hong Kong S.A.R. of China  2023                       0.39\n"
     ]
    }
   ],
   "source": [
    "# Filter the DataFrame to show only the specified columns\n",
    "outliers_filtered = whr_df.loc[outliers['perceptions_of_corruption'], ['country', 'year', 'perceptions_of_corruption']]\n",
    "\n",
    "# Display the resulting DataFrame\n",
    "print(outliers_filtered)"
   ]
  },
  {
   "cell_type": "markdown",
   "id": "7d4b13b2",
   "metadata": {},
   "source": [
    "The presence of a relatively high number of outliers in the \"perceptions_of_corruption\" column (110 outliers) indicates that the majority of values are concentrated on the lower end of the scale (unfortunately). Outliers, actually are countries with the lowest levels of perceived corruption (where more of the happines come from lower corruption)"
   ]
  },
  {
   "cell_type": "code",
   "execution_count": 83,
   "id": "041557bf",
   "metadata": {},
   "outputs": [
    {
     "data": {
      "image/png": "[encoded data removed]",
      "text/plain": [
       "<Figure size 2500x2500 with 9 Axes>"
      ]
     },
     "metadata": {},
     "output_type": "display_data"
    }
   ],
   "source": [
    "whr_df.hist(figsize = (25,25))\n",
    "plt.show()"
   ]
  },
  {
   "cell_type": "markdown",
   "id": "ebe9166b",
   "metadata": {},
   "source": [
    "### 04. Exporting Data"
   ]
  },
  {
   "cell_type": "code",
   "execution_count": 80,
   "id": "470951a8",
   "metadata": {},
   "outputs": [],
   "source": [
    "#Exporting whr_df\n",
    "whr_df.to_csv(os.path.join(path, '02 Data', 'Prepared Data', 'whr_df_cleaned.csv'))"
   ]
  }
 ],
 "metadata": {
  "kernelspec": {
   "display_name": "Python 3 (ipykernel)",
   "language": "python",
   "name": "python3"
  },
  "language_info": {
   "codemirror_mode": {
    "name": "ipython",
    "version": 3
   },
   "file_extension": ".py",
   "mimetype": "text/x-python",
   "name": "python",
   "nbconvert_exporter": "python",
   "pygments_lexer": "ipython3",
   "version": "3.9.13"
  }
 },
 "nbformat": 4,
 "nbformat_minor": 5
}
